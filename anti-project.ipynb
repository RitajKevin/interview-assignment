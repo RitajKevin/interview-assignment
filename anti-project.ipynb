{
 "cells": [
  {
   "cell_type": "code",
   "execution_count": 3,
   "metadata": {},
   "outputs": [],
   "source": [
    "import wmi\n",
    "import pathlib\n",
    "import socket\n",
    "from winreg import *\n",
    "from openpyxl import Workbook\n",
    "import pandas as pd\n",
    "\n",
    "def add_Info():\n",
    "    host_name = socket.gethostname()\n",
    "    IP_add =socket.gethostbyname(socket.gethostname())\n",
    "    print(\"hostname:- \",host_name)\n",
    "    print(\"IP Address:- \",IP_add)\n",
    "\n",
    "def antivirus_check():\n",
    "    an = [ ]\n",
    "    cP = wmi.WMI(namespace='root\\SecurityCenter2')\n",
    "    for p in cP.AntivirusProduct():\n",
    "        an.append(p.displayName)\n",
    "        \n",
    "    print(an[1])\n",
    "    \n",
    "def SoftwarePresent():\n",
    "    \n",
    "    work_book = Workbook()\n",
    "    sheet = work_book.active\n",
    "    sheet['A1'] = 'Name'\n",
    "    sheet['B1'] = 'Version'\n",
    "    aReg = ConnectRegistry(None,HKEY_LOCAL_MACHINE)\n",
    "    aKey = OpenKey(aReg, r\"SOFTWARE\\\\Wow6432Node\\\\Microsoft\\\\Windows\\\\CurrentVersion\\\\Uninstall\")\n",
    "    for row in range(1,sheet.max_row +1):\n",
    "          for i in range(1024):\n",
    "            try:\n",
    "                keyname = EnumKey(aKey, i)\n",
    "                asubkey = OpenKey(aKey, keyname)\n",
    "                val = QueryValueEx(asubkey, \"DisplayName\")\n",
    "                val1 = QueryValueEx(asubkey, \"DisplayVersion\")\n",
    "                \n",
    "                sheet['A'+str(i+1)] = str(val[0])\n",
    "                sheet['B'+str(i+1)] = str(val1[0])\n",
    "\n",
    "            except WindowsError as e:\n",
    "                pass\n",
    "\n",
    "    work_book.save(\"current_softwares.xlsx\")\n",
    "    \n",
    "    df =  pd.read_excel(\"current_softwares.xlsx\")\n",
    "    df_clean = df.dropna()\n",
    "    df_clean.to_excel(\"current_softwares.xlsx\",index = False)"
   ]
  },
  {
   "cell_type": "code",
   "execution_count": null,
   "metadata": {},
   "outputs": [],
   "source": [
    "add_Info()\n",
    "antivirus_check()\n",
    "SoftwarePresent()"
   ]
  },
  {
   "cell_type": "code",
   "execution_count": null,
   "metadata": {},
   "outputs": [],
   "source": []
  }
 ],
 "metadata": {
  "kernelspec": {
   "display_name": "Python 3",
   "language": "python",
   "name": "python3"
  },
  "language_info": {
   "codemirror_mode": {
    "name": "ipython",
    "version": 3
   },
   "file_extension": ".py",
   "mimetype": "text/x-python",
   "name": "python",
   "nbconvert_exporter": "python",
   "pygments_lexer": "ipython3",
   "version": "3.8.3"
  }
 },
 "nbformat": 4,
 "nbformat_minor": 4
}
